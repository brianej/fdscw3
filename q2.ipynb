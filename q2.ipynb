{
 "cells": [
  {
   "cell_type": "code",
   "execution_count": 22,
   "metadata": {},
   "outputs": [],
   "source": [
    "# Imports\n",
    "import os\n",
    "import numpy as np\n",
    "import pandas as pd\n",
    "import matplotlib.pyplot as plt\n",
    "import matplotlib\n",
    "import seaborn as sns\n",
    "from scipy.interpolate import interp1d\n",
    "import seaborn.objects as so\n",
    "from scipy.stats import chi2_contingency"
   ]
  },
  {
   "cell_type": "code",
   "execution_count": 23,
   "metadata": {},
   "outputs": [],
   "source": [
    "cancellations_scotland_fp = os.path.join(os.getcwd(), \"datasets\", \"cancellations_in_scotland.csv\")\n",
    "cancellations_scotland = pd.read_csv(cancellations_scotland_fp)"
   ]
  },
  {
   "cell_type": "code",
   "execution_count": 24,
   "metadata": {},
   "outputs": [],
   "source": [
    "# drop uncessary columns drop also country cos its only scotland and like everything is the same and id too cos like useless yk\n",
    "cancellations_scotland.drop(columns=[\"_id\",\"Country\",\"TotalOperationsQF\",\"TotalCancelledQF\",\"CancelledByPatientReasonQF\",\"ClinicalReasonQF\",\"NonClinicalCapacityReasonQF\",\"OtherReasonQF\"], inplace=True)"
   ]
  },
  {
   "cell_type": "code",
   "execution_count": 25,
   "metadata": {},
   "outputs": [
    {
     "data": {
      "text/plain": [
       "0"
      ]
     },
     "execution_count": 25,
     "metadata": {},
     "output_type": "execute_result"
    }
   ],
   "source": [
    "cancellations_scotland[\"Month\"] = pd.to_datetime(cancellations_scotland.Month, format=\"%Y%m\")\n",
    "(cancellations_scotland.Month.value_counts() > 1).sum()"
   ]
  },
  {
   "cell_type": "code",
   "execution_count": 26,
   "metadata": {},
   "outputs": [
    {
     "data": {
      "text/html": [
       "<div>\n",
       "<style scoped>\n",
       "    .dataframe tbody tr th:only-of-type {\n",
       "        vertical-align: middle;\n",
       "    }\n",
       "\n",
       "    .dataframe tbody tr th {\n",
       "        vertical-align: top;\n",
       "    }\n",
       "\n",
       "    .dataframe thead th {\n",
       "        text-align: right;\n",
       "    }\n",
       "</style>\n",
       "<table border=\"1\" class=\"dataframe\">\n",
       "  <thead>\n",
       "    <tr style=\"text-align: right;\">\n",
       "      <th></th>\n",
       "      <th>Month</th>\n",
       "      <th>TotalOperations</th>\n",
       "      <th>TotalCancelled</th>\n",
       "      <th>CancelledByPatientReason</th>\n",
       "      <th>ClinicalReason</th>\n",
       "      <th>NonClinicalCapacityReason</th>\n",
       "      <th>OtherReason</th>\n",
       "    </tr>\n",
       "  </thead>\n",
       "  <tbody>\n",
       "    <tr>\n",
       "      <th>0</th>\n",
       "      <td>2015-05-01</td>\n",
       "      <td>28810</td>\n",
       "      <td>2695</td>\n",
       "      <td>1057</td>\n",
       "      <td>853</td>\n",
       "      <td>523</td>\n",
       "      <td>262</td>\n",
       "    </tr>\n",
       "    <tr>\n",
       "      <th>1</th>\n",
       "      <td>2015-06-01</td>\n",
       "      <td>30941</td>\n",
       "      <td>2800</td>\n",
       "      <td>1194</td>\n",
       "      <td>870</td>\n",
       "      <td>449</td>\n",
       "      <td>287</td>\n",
       "    </tr>\n",
       "    <tr>\n",
       "      <th>2</th>\n",
       "      <td>2015-07-01</td>\n",
       "      <td>27725</td>\n",
       "      <td>2642</td>\n",
       "      <td>1083</td>\n",
       "      <td>854</td>\n",
       "      <td>457</td>\n",
       "      <td>248</td>\n",
       "    </tr>\n",
       "    <tr>\n",
       "      <th>3</th>\n",
       "      <td>2015-08-01</td>\n",
       "      <td>28948</td>\n",
       "      <td>2630</td>\n",
       "      <td>1080</td>\n",
       "      <td>912</td>\n",
       "      <td>491</td>\n",
       "      <td>147</td>\n",
       "    </tr>\n",
       "    <tr>\n",
       "      <th>4</th>\n",
       "      <td>2015-09-01</td>\n",
       "      <td>30938</td>\n",
       "      <td>2829</td>\n",
       "      <td>1122</td>\n",
       "      <td>1000</td>\n",
       "      <td>535</td>\n",
       "      <td>172</td>\n",
       "    </tr>\n",
       "    <tr>\n",
       "      <th>...</th>\n",
       "      <td>...</td>\n",
       "      <td>...</td>\n",
       "      <td>...</td>\n",
       "      <td>...</td>\n",
       "      <td>...</td>\n",
       "      <td>...</td>\n",
       "      <td>...</td>\n",
       "    </tr>\n",
       "    <tr>\n",
       "      <th>100</th>\n",
       "      <td>2023-09-01</td>\n",
       "      <td>23209</td>\n",
       "      <td>2105</td>\n",
       "      <td>739</td>\n",
       "      <td>738</td>\n",
       "      <td>541</td>\n",
       "      <td>87</td>\n",
       "    </tr>\n",
       "    <tr>\n",
       "      <th>101</th>\n",
       "      <td>2023-10-01</td>\n",
       "      <td>24201</td>\n",
       "      <td>2286</td>\n",
       "      <td>775</td>\n",
       "      <td>797</td>\n",
       "      <td>580</td>\n",
       "      <td>134</td>\n",
       "    </tr>\n",
       "    <tr>\n",
       "      <th>102</th>\n",
       "      <td>2023-11-01</td>\n",
       "      <td>25922</td>\n",
       "      <td>2277</td>\n",
       "      <td>737</td>\n",
       "      <td>820</td>\n",
       "      <td>582</td>\n",
       "      <td>138</td>\n",
       "    </tr>\n",
       "    <tr>\n",
       "      <th>103</th>\n",
       "      <td>2023-12-01</td>\n",
       "      <td>20837</td>\n",
       "      <td>2014</td>\n",
       "      <td>677</td>\n",
       "      <td>725</td>\n",
       "      <td>515</td>\n",
       "      <td>97</td>\n",
       "    </tr>\n",
       "    <tr>\n",
       "      <th>104</th>\n",
       "      <td>2024-01-01</td>\n",
       "      <td>24186</td>\n",
       "      <td>2425</td>\n",
       "      <td>830</td>\n",
       "      <td>739</td>\n",
       "      <td>668</td>\n",
       "      <td>188</td>\n",
       "    </tr>\n",
       "  </tbody>\n",
       "</table>\n",
       "<p>105 rows × 7 columns</p>\n",
       "</div>"
      ],
      "text/plain": [
       "         Month  TotalOperations  TotalCancelled  CancelledByPatientReason  \\\n",
       "0   2015-05-01            28810            2695                      1057   \n",
       "1   2015-06-01            30941            2800                      1194   \n",
       "2   2015-07-01            27725            2642                      1083   \n",
       "3   2015-08-01            28948            2630                      1080   \n",
       "4   2015-09-01            30938            2829                      1122   \n",
       "..         ...              ...             ...                       ...   \n",
       "100 2023-09-01            23209            2105                       739   \n",
       "101 2023-10-01            24201            2286                       775   \n",
       "102 2023-11-01            25922            2277                       737   \n",
       "103 2023-12-01            20837            2014                       677   \n",
       "104 2024-01-01            24186            2425                       830   \n",
       "\n",
       "     ClinicalReason  NonClinicalCapacityReason  OtherReason  \n",
       "0               853                        523          262  \n",
       "1               870                        449          287  \n",
       "2               854                        457          248  \n",
       "3               912                        491          147  \n",
       "4              1000                        535          172  \n",
       "..              ...                        ...          ...  \n",
       "100             738                        541           87  \n",
       "101             797                        580          134  \n",
       "102             820                        582          138  \n",
       "103             725                        515           97  \n",
       "104             739                        668          188  \n",
       "\n",
       "[105 rows x 7 columns]"
      ]
     },
     "execution_count": 26,
     "metadata": {},
     "output_type": "execute_result"
    }
   ],
   "source": [
    "cancellations_scotland"
   ]
  },
  {
   "cell_type": "code",
   "execution_count": 27,
   "metadata": {},
   "outputs": [
    {
     "name": "stdout",
     "output_type": "stream",
     "text": [
      "        CancelledByPatientReason  ClinicalReason  NonClinicalCapacityReason  \\\n",
      "Season                                                                        \n",
      "Autum                      22011           22438                      14623   \n",
      "Spring                     19755           19126                      12873   \n",
      "Summer                     21276           20380                      12956   \n",
      "Winter                     21242           20248                      15573   \n",
      "\n",
      "        OtherReason  \n",
      "Season               \n",
      "Autum          2739  \n",
      "Spring         2538  \n",
      "Summer         2799  \n",
      "Winter         2691  \n"
     ]
    }
   ],
   "source": [
    "def get_season(x):\n",
    "    monts = x.month\n",
    "    if monts in [12,1,2]:\n",
    "        return \"Winter\"\n",
    "    elif monts in [3,4,5]:\n",
    "        return \"Spring\"\n",
    "    elif monts in [6,7,8]:\n",
    "        return \"Summer\"\n",
    "    else:\n",
    "        return \"Autum\"\n",
    "   \n",
    "        \n",
    "cancel_scotland = cancellations_scotland.copy(True)\n",
    "cancel_scotland[\"Season\"] = cancellations_scotland[\"Month\"].apply(get_season)\n",
    "cancel_scotland\n",
    "cancel_scotland.drop(columns=[\"Month\",\"TotalOperations\",\"TotalCancelled\"], inplace=True)\n",
    "cancel_scotland\n",
    "seasonal_sum = cancel_scotland.groupby(\"Season\").sum()\n",
    "seasonal_sum\n",
    "crosstab_df = pd.pivot_table(seasonal_sum, index='Season', aggfunc='sum')\n",
    "\n",
    "print(crosstab_df)\n",
    "\n"
   ]
  },
  {
   "cell_type": "code",
   "execution_count": 28,
   "metadata": {},
   "outputs": [
    {
     "name": "stdout",
     "output_type": "stream",
     "text": [
      "Chi-square statistic: 251.56492057907226\n",
      "P-value: 4.66179921136406e-49\n",
      "Degrees of freedom: 9\n",
      "Expected frequencies table:\n",
      "        CancelledByPatientReason  ClinicalReason  NonClinicalCapacityReason  \\\n",
      "Season                                                                        \n",
      "Autum               22333.446182    21779.111203               14845.419325   \n",
      "Spring              19616.693794    19129.790901               13039.548073   \n",
      "Summer              20743.645609    20228.770822               13788.652001   \n",
      "Winter              21590.214414    21054.327074               14351.380601   \n",
      "\n",
      "        OtherReason  \n",
      "Season               \n",
      "Autum   2853.023291  \n",
      "Spring  2505.967231  \n",
      "Summer  2649.931568  \n",
      "Winter  2758.077910  \n"
     ]
    }
   ],
   "source": [
    "#performing the chi test\n",
    "chi2_stat, p_val, dof, expected = chi2_contingency(crosstab_df)\n",
    "print(\"Chi-square statistic:\", chi2_stat)\n",
    "print(\"P-value:\", p_val)\n",
    "print(\"Degrees of freedom:\", dof)\n",
    "print(\"Expected frequencies table:\")\n",
    "print(pd.DataFrame(expected, index=crosstab_df.index, columns=crosstab_df.columns))"
   ]
  },
  {
   "cell_type": "code",
   "execution_count": null,
   "metadata": {},
   "outputs": [
    {
     "name": "stdout",
     "output_type": "stream",
     "text": [
      "CancelledByPatientReason      int64\n",
      "ClinicalReason                int64\n",
      "NonClinicalCapacityReason     int64\n",
      "OtherReason                   int64\n",
      "Season                       object\n",
      "dtype: object\n"
     ]
    },
    {
     "data": {
      "image/png": "[encoded data removed]",
      "text/plain": [
       "<Figure size 640x480 with 1 Axes>"
      ]
     },
     "metadata": {},
     "output_type": "display_data"
    }
   ],
   "source": [
    "\n",
    "sns.barplot(data=cancel_scotland, x=\"Season\", y=\"NonClinicalCapacityReason\")\n",
    "print(cancel_scotland.dtypes)\n",
    "#seasonal = cancel_scotland.groupby(\"Season\").sum()\n",
    "# it indeed peaks in december"
   ]
  },
  {
   "cell_type": "code",
   "execution_count": null,
   "metadata": {},
   "outputs": [],
   "source": []
  }
 ],
 "metadata": {
  "kernelspec": {
   "display_name": "Python 3",
   "language": "python",
   "name": "python3"
  },
  "language_info": {
   "codemirror_mode": {
    "name": "ipython",
    "version": 3
   },
   "file_extension": ".py",
   "mimetype": "text/x-python",
   "name": "python",
   "nbconvert_exporter": "python",
   "pygments_lexer": "ipython3",
   "version": "3.10.13"
  }
 },
 "nbformat": 4,
 "nbformat_minor": 2
}
